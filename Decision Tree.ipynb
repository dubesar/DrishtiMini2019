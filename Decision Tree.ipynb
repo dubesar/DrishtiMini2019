{
 "cells": [
  {
   "cell_type": "code",
   "execution_count": 1,
   "metadata": {},
   "outputs": [],
   "source": [
    "import numpy as np     \n",
    "import collections\n",
    "import pandas as pd    \n",
    "import seaborn as sns\n",
    "import matplotlib.pyplot as plt\n",
    "from matplotlib.pyplot import figure\n",
    "from Get_and_Prepare_data import get_prepare\n",
    "from sklearn.model_selection import train_test_split"
   ]
  },
  {
   "cell_type": "code",
   "execution_count": 2,
   "metadata": {},
   "outputs": [
    {
     "name": "stdout",
     "output_type": "stream",
     "text": [
      "\n",
      "Features: \n",
      " ['fLen0t1:' 'fWidt1:' 'fSize:' 'fConc:' 'fConc1:' 'fAsym:' 'fM3Lon0:'\n",
      " 'fM3Trans:' 'fAlp1a:' 'fDist:']\n",
      "\n",
      "Target: \n",
      " class \n",
      "\n",
      "\n",
      "\n",
      "\n",
      "Removing incorrect values from class\n",
      "done\n",
      "\n",
      "\n",
      "Removing non float values from features....\n",
      "done\n",
      "\n",
      "A total of 77 rows were removed. Their positions are :\n",
      "\n",
      " [172, 190, 359, 17889, 17893, 17956, 17990, 18229, 18865, 16364, 11849, 15001, 363, 489, 854, 5654, 2907, 11681, 11688, 621, 631, 707, 1107, 1714, 2080, 2301, 2972, 3169, 4665, 5678, 5689, 6014, 6211, 6659, 6758, 6771, 6922, 6953, 7031, 7342, 7577, 8981, 9168, 9537, 10056, 10673, 10826, 10934, 11139, 11733, 11811, 11865, 12501, 13614, 13989, 14709, 16870, 17124, 17128, 17213, 18013, 18470, 466, 482, 3935, 5251, 8130, 10105, 11680, 11690, 11837, 2917, 11518, 17587, 858, 8215, 8133]\n",
      "\n",
      "\n",
      "x_train.shape, x_test.shape, y_train.shape, y_test.shape = (13259, 10) (5683, 10) (13259, 1) (5683, 1)\n"
     ]
    }
   ],
   "source": [
    "test_size,random_state = 0.3,15\n",
    "df = pd.read_csv('Magic_Telescope_data.csv')\n",
    "\n",
    "features = df.columns[1:-1]\n",
    "target = df.columns[-1]\n",
    "print('\\nFeatures: \\n',features.values)\n",
    "print('\\nTarget: \\n',target,'\\n\\n')\n",
    "\n",
    "df.drop(columns=['ID'],inplace=True)\n",
    "\n",
    "## removing non g/h values from class\n",
    "print('\\n\\nRemoving incorrect values from class')\n",
    "a = df.columns.get_loc('{}'.format(target))\n",
    "positions=[]\n",
    "for i in range(1,df.shape[0]):\n",
    "    if not (df.iloc[i,a] == 'g'or df.iloc[i,a] == 'h'):\n",
    "        positions.append(i)\n",
    "print('done')\n",
    "\n",
    "## removing non float values from features\n",
    "print('\\n\\nRemoving non float values from features....')\n",
    "for i in features:\n",
    "    a = df.columns.get_loc('{}'.format(i))\n",
    "    for j in range(1,df['{}'.format(i)].shape[0]):\n",
    "        if ('{}'.format(df.iloc[j,a]).isalnum() or '{}'.format(df.iloc[j,a]).isalpha()) and (not df.iloc[j,a] ==0) :\n",
    "            if j not in positions:\n",
    "                positions.append(j)\n",
    "\n",
    "## trying to convert strings to float. If an error occurs the position is noted \n",
    "objects = []\n",
    "for i in df.columns:\n",
    "    if df[i].dtype == 'object' and not i == target:\n",
    "        if j not in positions:\n",
    "            objects.append(i)\n",
    "\n",
    "for i in objects:\n",
    "    for j in range(df[i].shape[0]):\n",
    "        try:\n",
    "            float(df['{}'.format(i)].iloc[j])\n",
    "        except:\n",
    "            if j not in positions:\n",
    "                positions.append(j)\n",
    "    df['{}'.format(i)] = pd.to_numeric(df['{}'.format(i)],errors='coerce')\n",
    "\n",
    "print('done\\n\\nA total of {} rows were removed. Their positions are :\\n\\n'.format(np.shape(np.unique(positions))[0]),positions)\n",
    "df.drop(positions,inplace=True)\n",
    "df.dropna(inplace=True)\n",
    "df.reset_index(drop=True,inplace=True)\n",
    "del positions\n",
    "\n",
    "for c in features: \n",
    "    df['{}'.format(c)]= (df['{}'.format(c)] - df['{}'.format(c)].mean())/ df['{}'.format(c)].std()                             # Standardization \n",
    "    df['{}'.format(c)]= (df['{}'.format(c)] - min(df['{}'.format(c)]))/ (max(df['{}'.format(c)])-min(df['{}'.format(c)]))      # Normalizing\n",
    "\n",
    "x = df.loc[:,features]\n",
    "y= df.loc[:,target]\n",
    "x_train, x_test, y_train, y_test = train_test_split(x, y, test_size=test_size, random_state=random_state,shuffle=True)\n",
    "y_train,y_test = y_train.values.reshape((y_train.shape[0],1)),y_test.values.reshape((y_test.shape[0],1))\n",
    "print('\\n\\nx_train.shape, x_test.shape, y_train.shape, y_test.shape =',x_train.shape, x_test.shape, y_train.shape, y_test.shape)"
   ]
  },
  {
   "cell_type": "code",
   "execution_count": 4,
   "metadata": {},
   "outputs": [
    {
     "data": {
      "text/html": [
       "<div>\n",
       "<style scoped>\n",
       "    .dataframe tbody tr th:only-of-type {\n",
       "        vertical-align: middle;\n",
       "    }\n",
       "\n",
       "    .dataframe tbody tr th {\n",
       "        vertical-align: top;\n",
       "    }\n",
       "\n",
       "    .dataframe thead th {\n",
       "        text-align: right;\n",
       "    }\n",
       "</style>\n",
       "<table border=\"1\" class=\"dataframe\">\n",
       "  <thead>\n",
       "    <tr style=\"text-align: right;\">\n",
       "      <th></th>\n",
       "      <th>Height</th>\n",
       "      <th>Class</th>\n",
       "    </tr>\n",
       "  </thead>\n",
       "  <tbody>\n",
       "    <tr>\n",
       "      <th>0</th>\n",
       "      <td>23</td>\n",
       "      <td>cat</td>\n",
       "    </tr>\n",
       "    <tr>\n",
       "      <th>1</th>\n",
       "      <td>110</td>\n",
       "      <td>dog</td>\n",
       "    </tr>\n",
       "  </tbody>\n",
       "</table>\n",
       "</div>"
      ],
      "text/plain": [
       "   Height Class\n",
       "0      23   cat\n",
       "1     110   dog"
      ]
     },
     "execution_count": 4,
     "metadata": {},
     "output_type": "execute_result"
    }
   ],
   "source": [
    "data_test = [\n",
    "                [23,'cat'],\n",
    "                [110,'dog'],\n",
    "                [24,'cat'],\n",
    "                [15,'dog'],\n",
    "                [100,'dog'],\n",
    "                [21,'cat'],\n",
    "                [90,'dog'],\n",
    "                [22,'cat'],\n",
    "                [18,'dog'],\n",
    "                [50,'dog']\n",
    "            ]\n",
    "data_test = pd.DataFrame(data_test,columns=[\"Height\",\"Class\"])   \n",
    "data_test.head(2)"
   ]
  },
  {
   "cell_type": "code",
   "execution_count": 5,
   "metadata": {},
   "outputs": [],
   "source": [
    "data = df"
   ]
  },
  {
   "cell_type": "code",
   "execution_count": 6,
   "metadata": {},
   "outputs": [],
   "source": [
    "def unique_values(df,column_name):\n",
    "    \"\"\"\n",
    "    inputs: \n",
    "            df - dataframe\n",
    "            column_name - name of column in df\n",
    "            \n",
    "    returns:\n",
    "            a set consisting of unique values in that column\n",
    "    \"\"\"\n",
    "    return set(df[\"{}\".format(column_name)])"
   ]
  },
  {
   "cell_type": "code",
   "execution_count": 7,
   "metadata": {},
   "outputs": [
    {
     "data": {
      "text/plain": [
       "{'cat', 'dog'}"
      ]
     },
     "execution_count": 7,
     "metadata": {},
     "output_type": "execute_result"
    }
   ],
   "source": [
    "unique_values(data_test,'Class')"
   ]
  },
  {
   "cell_type": "code",
   "execution_count": 8,
   "metadata": {},
   "outputs": [],
   "source": [
    "def Counter (df):\n",
    "    lables = df.iloc[:,-1]\n",
    "    return collections.Counter(lables)"
   ]
  },
  {
   "cell_type": "code",
   "execution_count": 9,
   "metadata": {},
   "outputs": [
    {
     "data": {
      "text/plain": [
       "Counter({'g': 12274, 'h': 6668})"
      ]
     },
     "execution_count": 9,
     "metadata": {},
     "output_type": "execute_result"
    }
   ],
   "source": [
    "Counter(df)"
   ]
  },
  {
   "cell_type": "code",
   "execution_count": 10,
   "metadata": {
    "scrolled": false
   },
   "outputs": [
    {
     "data": {
      "text/plain": [
       "Counter({'cat': 4, 'dog': 6})"
      ]
     },
     "execution_count": 10,
     "metadata": {},
     "output_type": "execute_result"
    }
   ],
   "source": [
    "Counter(data_test)"
   ]
  },
  {
   "cell_type": "code",
   "execution_count": 11,
   "metadata": {},
   "outputs": [],
   "source": [
    "class question:\n",
    "    \n",
    "    def __init__(self,column_name,value,data):\n",
    "        \n",
    "        self.column_name= column_name\n",
    "        self.value=value  \n",
    "        self.data = data\n",
    "        \n",
    "        if np.issubdtype(data[\"{}\".format(self.column_name)],np.number):\n",
    "            self.symbol = \">=\"\n",
    "        else:\n",
    "            self.symbol = \"==\"\n",
    "    \n",
    "    def __str__(self):\n",
    "        return(\"Is {} {} {}?\".format(self.column_name,self.symbol,self.value))\n",
    "    \n",
    "    def check(self,row_number):\n",
    "        '''\n",
    "         Checks whether the given row_number satisfies the question.\n",
    "         inputs: row_number\n",
    "         outputs: boolean \n",
    "         '''       \n",
    "        if(self.symbol == \"==\"):\n",
    "            column_number = self.data.columns.get_loc(\"{}\".format(self.column_name))\n",
    "            if (self.data.iloc[row_number,column_number] == self.value): return True\n",
    "            else : return False\n",
    "\n",
    "        if(self.symbol == \">=\") :\n",
    "            column_number = self.data.columns.get_loc(\"{}\".format(self.column_name))\n",
    "            if (self.data.iloc[row_number,column_number] >= self.value): return True\n",
    "            else : return False"
   ]
  },
  {
   "cell_type": "code",
   "execution_count": 12,
   "metadata": {},
   "outputs": [
    {
     "name": "stdout",
     "output_type": "stream",
     "text": [
      "Is fSize: >= 10?\n"
     ]
    },
    {
     "data": {
      "text/plain": [
       "False"
      ]
     },
     "execution_count": 12,
     "metadata": {},
     "output_type": "execute_result"
    }
   ],
   "source": [
    "a=question('fSize:',10,df)\n",
    "print(a)\n",
    "a.check(100)"
   ]
  },
  {
   "cell_type": "code",
   "execution_count": 13,
   "metadata": {},
   "outputs": [
    {
     "name": "stdout",
     "output_type": "stream",
     "text": [
      "Is class == g?\n"
     ]
    },
    {
     "data": {
      "text/plain": [
       "True"
      ]
     },
     "execution_count": 13,
     "metadata": {},
     "output_type": "execute_result"
    }
   ],
   "source": [
    "b=question(\"class\",'g',df)\n",
    "print(b)\n",
    "b.check(68)"
   ]
  },
  {
   "cell_type": "code",
   "execution_count": 14,
   "metadata": {},
   "outputs": [],
   "source": [
    "def T_F_rows (df,question):\n",
    "    '''\n",
    "    Runs a loop and checks all rows and divides them into\n",
    "    true or false rows.\n",
    "    input: df,question\n",
    "    outputs:True_rows.False_rows\n",
    "    '''\n",
    "    True_rows,False_rows = [],[]\n",
    "    for i in range(1,df.shape[0]):\n",
    "        if question.check(i):\n",
    "            True_rows.append(i)\n",
    "        else:\n",
    "            False_rows.append(i)\n",
    "    return df.iloc[True_rows,:],df.iloc[False_rows,:]"
   ]
  },
  {
   "cell_type": "code",
   "execution_count": 15,
   "metadata": {},
   "outputs": [
    {
     "name": "stdout",
     "output_type": "stream",
     "text": [
      "Is fLen0t1: >= 0.05?\n",
      "       fLen0t1:   fWidt1:    fSize:    fConc:   fConc1:    fAsym:  fM3Lon0:  \\\n",
      "1      0.082815  0.045727  0.170668  0.587794  0.558601  0.468649  0.623756   \n",
      "2      0.478241  0.530579  0.626818  0.027617  0.027263  0.556215  0.468201   \n",
      "3      0.059212  0.037338  0.117445  0.683714  0.580679  0.469558  0.570630   \n",
      "4      0.214774  0.120603  0.360674  0.345153  0.271003  0.437870  0.632050   \n",
      "5      0.143502  0.082495  0.285985  0.260143  0.198103  0.492464  0.657723   \n",
      "6      0.133265  0.067698  0.322856  0.272531  0.224033  0.451518  0.648790   \n",
      "7      0.068223  0.053668  0.180603  0.466530  0.321677  0.471903  0.617848   \n",
      "8      0.278724  0.181434  0.654258  0.073645  0.057342  0.550034  0.731149   \n",
      "9      0.128764  0.059284  0.188439  0.368906  0.283005  0.467181  0.658931   \n",
      "10     0.177309  0.116663  0.411532  0.266394  0.186398  0.410402  0.682975   \n",
      "12     0.125339  0.088579  0.326079  0.236618  0.179582  0.425412  0.545758   \n",
      "13     0.087599  0.048621  0.163868  0.518809  0.356942  0.426733  0.543244   \n",
      "14     0.170281  0.129128  0.370520  0.516877  0.364647  0.457061  0.522545   \n",
      "15     0.076360  0.087596  0.202395  0.334811  0.257371  0.460763  0.621791   \n",
      "16     0.096669  0.068985  0.297073  0.310717  0.235294  0.438599  0.548693   \n",
      "17     0.127338  0.062535  0.246688  0.371860  0.284042  0.491587  0.640492   \n",
      "18     0.126633  0.073277  0.378593  0.261393  0.222403  0.490910  0.641793   \n",
      "19     0.122633  0.060989  0.206002  0.338220  0.253667  0.456813  0.647262   \n",
      "20     0.264809  0.280370  0.563897  0.073758  0.063269  0.388330  0.708789   \n",
      "21     0.247853  0.085141  0.419101  0.254347  0.245814  0.386322  0.683390   \n",
      "22     0.261437  0.069709  0.322797  0.226276  0.159579  0.387646  0.730395   \n",
      "24     0.251460  0.108959  0.278977  0.343675  0.267151  0.425595  0.698941   \n",
      "25     0.312387  0.113641  0.468717  0.134561  0.100756  0.397615  0.738981   \n",
      "26     0.069559  0.075207  0.205855  0.406751  0.301674  0.465521  0.622912   \n",
      "27     0.067970  0.073745  0.217859  0.471645  0.327604  0.452088  0.614743   \n",
      "28     0.058447  0.038975  0.079302  0.630526  0.498000  0.472263  0.557644   \n",
      "29     0.092348  0.075000  0.183797  0.401750  0.293525  0.472610  0.553359   \n",
      "30     0.140043  0.101294  0.407481  0.205705  0.167432  0.474309  0.650404   \n",
      "31     0.252015  0.104479  0.438143  0.304353  0.260483  0.453362  0.701849   \n",
      "32     0.092869  0.062259  0.267416  0.356404  0.260631  0.458516  0.602709   \n",
      "...         ...       ...       ...       ...       ...       ...       ...   \n",
      "18910  0.270207  0.203318  0.476109  0.123650  0.090087  0.506449  0.723364   \n",
      "18911  0.335531  0.254778  0.556239  0.146267  0.112461  0.388654  0.705244   \n",
      "18912  0.065913  0.028867  0.142224  0.689056  0.561268  0.416248  0.606591   \n",
      "18913  0.084485  0.048915  0.241869  0.475736  0.320640  0.473828  0.625080   \n",
      "18914  0.499424  0.137925  0.398610  0.365723  0.293821  0.286194  0.705566   \n",
      "18916  0.578815  0.261409  0.539799  0.120923  0.099867  0.327859  0.308540   \n",
      "18917  0.192275  0.111486  0.383530  0.218093  0.163432  0.313864  0.692718   \n",
      "18918  0.077455  0.044277  0.148906  0.540857  0.436361  0.452825  0.566105   \n",
      "18920  0.615258  0.295780  0.652365  0.069099  0.054527  0.208507  0.266183   \n",
      "18921  0.509136  0.078760  0.283737  0.313217  0.287005  0.563821  0.780081   \n",
      "18922  0.197252  0.124744  0.379007  0.336629  0.257964  0.392253  0.508187   \n",
      "18923  0.160376  0.138502  0.229568  0.250710  0.176915  0.396266  0.486750   \n",
      "18924  0.322621  0.104653  0.378445  0.196045  0.184324  0.290230  0.710411   \n",
      "18925  0.052245  0.060147  0.234033  0.620070  0.461402  0.436090  0.598176   \n",
      "18926  0.058036  0.044337  0.224364  0.421752  0.279597  0.417688  0.556469   \n",
      "18927  0.059244  0.046411  0.147250  0.514149  0.427915  0.453965  0.602275   \n",
      "18928  0.084457  0.053941  0.160585  0.574043  0.408653  0.408314  0.553964   \n",
      "18929  0.336413  0.054635  0.269870  0.842482  0.612387  0.357844  0.375888   \n",
      "18930  0.391676  0.156653  0.403223  0.117968  0.088754  0.524690  0.439304   \n",
      "18931  0.106819  0.072676  0.263986  0.264916  0.209068  0.466626  0.622695   \n",
      "18932  0.085502  0.041627  0.157569  0.515172  0.404801  0.417077  0.544836   \n",
      "18933  0.228162  0.175492  0.475310  0.173315  0.132909  0.404871  0.676313   \n",
      "18934  0.083523  0.054112  0.261325  0.458916  0.294118  0.427258  0.534353   \n",
      "18935  0.540225  0.298604  0.516233  0.112740  0.098237  0.629317  0.745149   \n",
      "18936  0.118264  0.067690  0.262980  0.312081  0.243443  0.384968  0.522589   \n",
      "18937  0.051838  0.042581  0.199527  0.650756  0.582457  0.457992  0.602182   \n",
      "18938  0.074757  0.026141  0.096363  0.593249  0.412061  0.479112  0.605095   \n",
      "18939  0.215712  0.185389  0.445594  0.146153  0.080901  0.434164  0.653983   \n",
      "18940  0.352326  0.299950  0.606919  0.092397  0.100756  0.448838  0.417922   \n",
      "18941  0.554415  0.206728  0.374926  0.311967  0.227589  0.281277  0.286483   \n",
      "\n",
      "       fM3Trans:   fAlp1a:    fDist: class  \n",
      "1       0.507944  0.070693  0.412679     g  \n",
      "2       0.416540  0.855303  0.516926     g  \n",
      "3       0.515219  0.116126  0.233582     g  \n",
      "4       0.590373  0.051656  0.718582     g  \n",
      "5       0.559201  0.040153  0.479113     g  \n",
      "6       0.561203  0.053256  0.440651     g  \n",
      "7       0.526164  0.009024  0.477163     g  \n",
      "8       0.645708  0.053945  0.499604     g  \n",
      "9       0.516437  0.087520  0.204274     g  \n",
      "10      0.595381  0.110185  0.651073     g  \n",
      "12      0.496644  0.004248  0.358042     g  \n",
      "13      0.512551  0.465982  0.081126     g  \n",
      "14      0.608500  0.092154  0.751167     g  \n",
      "15      0.567892  0.533858  0.430614     g  \n",
      "16      0.563118  0.002823  0.384748     g  \n",
      "17      0.500581  0.430174  0.150200     g  \n",
      "18      0.561744  0.096533  0.363156     g  \n",
      "19      0.565951  0.036130  0.446152     g  \n",
      "20      0.689350  0.184730  0.574841     g  \n",
      "21      0.484997  0.022283  0.609516     g  \n",
      "22      0.572556  0.022661  0.547779     g  \n",
      "24      0.504350  0.049194  0.690343     g  \n",
      "25      0.481786  0.036808  0.591769     g  \n",
      "26      0.558960  0.861726  0.208385     g  \n",
      "27      0.503456  0.298745  0.126409     g  \n",
      "28      0.512345  0.294875  0.372070     g  \n",
      "29      0.570877  0.016904  0.218829     g  \n",
      "30      0.486618  0.249734  0.283885     g  \n",
      "31      0.471295  0.004053  0.749593     g  \n",
      "32      0.564806  0.106579  0.310411     g  \n",
      "...          ...       ...       ...   ...  \n",
      "18910   0.576639  0.246601  0.619998     h  \n",
      "18911   0.341603  0.414356  0.690769     h  \n",
      "18912   0.500062  0.719698  0.374203     h  \n",
      "18913   0.508648  0.391021  0.387038     h  \n",
      "18914   0.508413  0.539612  0.657431     h  \n",
      "18916   0.428472  0.021385  0.428722     h  \n",
      "18917   0.490626  0.533220  0.507225     h  \n",
      "18918   0.575959  0.191092  0.463840     h  \n",
      "18920   0.383762  0.828786  0.522041     h  \n",
      "18921   0.478168  0.321798  0.423986     h  \n",
      "18922   0.550345  0.084801  0.582674     h  \n",
      "18923   0.617650  0.497134  0.205780     h  \n",
      "18924   0.588940  0.104162  0.567690     h  \n",
      "18925   0.578245  0.893875  0.450536     h  \n",
      "18926   0.574232  0.981367  0.541778     h  \n",
      "18927   0.551545  0.392495  0.305070     h  \n",
      "18928   0.501950  0.526456  0.495215     h  \n",
      "18929   0.555735  0.311292  0.679189     h  \n",
      "18930   0.453263  0.312801  0.643545     h  \n",
      "18931   0.500252  0.514204  0.375931     h  \n",
      "18932   0.555744  0.768761  0.241535     h  \n",
      "18933   0.455972  0.175678  0.627754     h  \n",
      "18934   0.562558  0.126321  0.199835     h  \n",
      "18935   0.371425  0.913195  0.570914     h  \n",
      "18936   0.524284  0.871417  0.452270     h  \n",
      "18937   0.541215  0.026927  0.213530     h  \n",
      "18938   0.526076  0.964633  0.498046     h  \n",
      "18939   0.509218  0.336728  0.516377     h  \n",
      "18940   0.368263  0.941182  0.823491     h  \n",
      "18941   0.615354  0.586032  0.548344     h  \n",
      "\n",
      "[16076 rows x 11 columns]\n"
     ]
    }
   ],
   "source": [
    "q = question(\"fLen0t1:\",0.05,df)\n",
    "print(q)\n",
    "True_rows,False_rows = T_F_rows(df,q)\n",
    "print(True_rows)"
   ]
  },
  {
   "cell_type": "markdown",
   "metadata": {},
   "source": [
    "$\\large Gini\\ Impurity = H= 1 - P(A)^2 - P(B)^2 -\\ ...$ \n",
    "\n",
    "Where $P(A)$ is the probablity of the class A"
   ]
  },
  {
   "cell_type": "code",
   "execution_count": 16,
   "metadata": {},
   "outputs": [],
   "source": [
    "def gini(df):\n",
    "    '''\n",
    "    Finds the gini impurity of all the classes in a dataframe\n",
    "    '''\n",
    "    impurity = 1\n",
    "    Classes = Counter(df)\n",
    "    for i in Classes:\n",
    "        impurity -= (Classes[i]/float(df.shape[0]))**2\n",
    "    return impurity"
   ]
  },
  {
   "cell_type": "code",
   "execution_count": 17,
   "metadata": {},
   "outputs": [
    {
     "data": {
      "text/plain": [
       "0.4562050004079717"
      ]
     },
     "execution_count": 17,
     "metadata": {},
     "output_type": "execute_result"
    }
   ],
   "source": [
    "gini(df)"
   ]
  },
  {
   "cell_type": "markdown",
   "metadata": {},
   "source": [
    "$\\large\\Delta H = H - \\frac{m_l}{m}H_l - \\frac{m_r}{m}H_r$\n",
    "\n",
    "Where m denotes training examples.The subscript denotes left and right partitions."
   ]
  },
  {
   "cell_type": "markdown",
   "metadata": {},
   "source": [
    "$\\large\\delta H = H - p_{l}*H_{l}- (1-p_{l})*H_{r}$"
   ]
  },
  {
   "cell_type": "code",
   "execution_count": 18,
   "metadata": {},
   "outputs": [],
   "source": [
    "def information_gain(entropy,True_rows,False_rows):\n",
    "#     print(len(True_rows))\n",
    "    p_l = float(len(True_rows)/(len(True_rows)+len(False_rows)))\n",
    "    return entropy - p_l* gini(True_rows) - (1-p_l)*gini(False_rows)"
   ]
  },
  {
   "cell_type": "code",
   "execution_count": 19,
   "metadata": {},
   "outputs": [],
   "source": [
    "q=question('fAlp1a:',0.306681,df)\n",
    "True_rows,False_rows = T_F_rows(df,q)\n",
    "info_gain = information_gain(gini(df),True_rows,False_rows)"
   ]
  },
  {
   "cell_type": "code",
   "execution_count": 20,
   "metadata": {
    "scrolled": true
   },
   "outputs": [
    {
     "data": {
      "text/plain": [
       "0.08755246905330191"
      ]
     },
     "execution_count": 20,
     "metadata": {},
     "output_type": "execute_result"
    }
   ],
   "source": [
    "info_gain"
   ]
  },
  {
   "cell_type": "code",
   "execution_count": 21,
   "metadata": {},
   "outputs": [],
   "source": [
    "q=question('fWidt1:',0.086736,df)\n",
    "True_rows,False_rows = T_F_rows(df,q)\n",
    "entropy = gini (df)\n",
    "Info = information_gain(entropy,True_rows,False_rows)"
   ]
  },
  {
   "cell_type": "code",
   "execution_count": 22,
   "metadata": {},
   "outputs": [
    {
     "data": {
      "text/plain": [
       "0.009015039023171634"
      ]
     },
     "execution_count": 22,
     "metadata": {},
     "output_type": "execute_result"
    }
   ],
   "source": [
    "Info"
   ]
  },
  {
   "cell_type": "code",
   "execution_count": 23,
   "metadata": {},
   "outputs": [],
   "source": [
    "def find_best_split(df):\n",
    "    best_information = 0\n",
    "    best_question = None\n",
    "    #ask questions\n",
    "    for column_name in df:\n",
    "        uniq_vals = unique_values(df,column_name) # to find all unique values in the column \n",
    "        \n",
    "        for uniq_val in uniq_vals:\n",
    "            q = question(column_name,uniq_val,df)\n",
    "            True_rows,False_rows = T_F_rows (df,q)\n",
    "        \n",
    "            if len(True_rows) == 0 or len (False_rows) == 0: # if the values isn't capable of dividing the data, continue\n",
    "                continue\n",
    "\n",
    "            information = information_gain(entropy,True_rows,False_rows) # get the info_gain,check if it is the greatest, if yes, store the question and the info else continue\n",
    "            if information> best_information:\n",
    "                best_information = information\n",
    "                best_question = q\n",
    "            \n",
    "    return best_information, best_information\n",
    "        "
   ]
  },
  {
   "cell_type": "code",
   "execution_count": 24,
   "metadata": {},
   "outputs": [
    {
     "ename": "KeyboardInterrupt",
     "evalue": "",
     "output_type": "error",
     "traceback": [
      "\u001b[0;31m---------------------------------------------------------------------------\u001b[0m",
      "\u001b[0;31mKeyboardInterrupt\u001b[0m                         Traceback (most recent call last)",
      "\u001b[0;32m<ipython-input-24-3cd0653b901d>\u001b[0m in \u001b[0;36m<module>\u001b[0;34m\u001b[0m\n\u001b[1;32m      6\u001b[0m \u001b[0;31m# entropy = gini(df_test)\u001b[0m\u001b[0;34m\u001b[0m\u001b[0;34m\u001b[0m\u001b[0;34m\u001b[0m\u001b[0m\n\u001b[1;32m      7\u001b[0m \u001b[0;31m# information_gain(entropy,True_rows,False_rows)\u001b[0m\u001b[0;34m\u001b[0m\u001b[0;34m\u001b[0m\u001b[0;34m\u001b[0m\u001b[0m\n\u001b[0;32m----> 8\u001b[0;31m \u001b[0mfind_best_split\u001b[0m\u001b[0;34m(\u001b[0m\u001b[0mdf\u001b[0m\u001b[0;34m)\u001b[0m\u001b[0;34m\u001b[0m\u001b[0;34m\u001b[0m\u001b[0m\n\u001b[0m",
      "\u001b[0;32m<ipython-input-23-caf6c43ca1dc>\u001b[0m in \u001b[0;36mfind_best_split\u001b[0;34m(df)\u001b[0m\n\u001b[1;32m      8\u001b[0m         \u001b[0;32mfor\u001b[0m \u001b[0muniq_val\u001b[0m \u001b[0;32min\u001b[0m \u001b[0muniq_vals\u001b[0m\u001b[0;34m:\u001b[0m\u001b[0;34m\u001b[0m\u001b[0;34m\u001b[0m\u001b[0m\n\u001b[1;32m      9\u001b[0m             \u001b[0mq\u001b[0m \u001b[0;34m=\u001b[0m \u001b[0mquestion\u001b[0m\u001b[0;34m(\u001b[0m\u001b[0mcolumn_name\u001b[0m\u001b[0;34m,\u001b[0m\u001b[0muniq_val\u001b[0m\u001b[0;34m,\u001b[0m\u001b[0mdf\u001b[0m\u001b[0;34m)\u001b[0m\u001b[0;34m\u001b[0m\u001b[0;34m\u001b[0m\u001b[0m\n\u001b[0;32m---> 10\u001b[0;31m             \u001b[0mTrue_rows\u001b[0m\u001b[0;34m,\u001b[0m\u001b[0mFalse_rows\u001b[0m \u001b[0;34m=\u001b[0m \u001b[0mT_F_rows\u001b[0m \u001b[0;34m(\u001b[0m\u001b[0mdf\u001b[0m\u001b[0;34m,\u001b[0m\u001b[0mq\u001b[0m\u001b[0;34m)\u001b[0m\u001b[0;34m\u001b[0m\u001b[0;34m\u001b[0m\u001b[0m\n\u001b[0m\u001b[1;32m     11\u001b[0m \u001b[0;34m\u001b[0m\u001b[0m\n\u001b[1;32m     12\u001b[0m             \u001b[0;32mif\u001b[0m \u001b[0mlen\u001b[0m\u001b[0;34m(\u001b[0m\u001b[0mTrue_rows\u001b[0m\u001b[0;34m)\u001b[0m \u001b[0;34m==\u001b[0m \u001b[0;36m0\u001b[0m \u001b[0;32mor\u001b[0m \u001b[0mlen\u001b[0m \u001b[0;34m(\u001b[0m\u001b[0mFalse_rows\u001b[0m\u001b[0;34m)\u001b[0m \u001b[0;34m==\u001b[0m \u001b[0;36m0\u001b[0m\u001b[0;34m:\u001b[0m \u001b[0;31m# if the values isn't capable of dividing the data, continue\u001b[0m\u001b[0;34m\u001b[0m\u001b[0;34m\u001b[0m\u001b[0m\n",
      "\u001b[0;32m<ipython-input-14-15d8cfaf75f2>\u001b[0m in \u001b[0;36mT_F_rows\u001b[0;34m(df, question)\u001b[0m\n\u001b[1;32m      9\u001b[0m     \u001b[0;32mfor\u001b[0m \u001b[0mi\u001b[0m \u001b[0;32min\u001b[0m \u001b[0mrange\u001b[0m\u001b[0;34m(\u001b[0m\u001b[0;36m1\u001b[0m\u001b[0;34m,\u001b[0m\u001b[0mdf\u001b[0m\u001b[0;34m.\u001b[0m\u001b[0mshape\u001b[0m\u001b[0;34m[\u001b[0m\u001b[0;36m0\u001b[0m\u001b[0;34m]\u001b[0m\u001b[0;34m)\u001b[0m\u001b[0;34m:\u001b[0m\u001b[0;34m\u001b[0m\u001b[0;34m\u001b[0m\u001b[0m\n\u001b[1;32m     10\u001b[0m         \u001b[0;32mif\u001b[0m \u001b[0mquestion\u001b[0m\u001b[0;34m.\u001b[0m\u001b[0mcheck\u001b[0m\u001b[0;34m(\u001b[0m\u001b[0mi\u001b[0m\u001b[0;34m)\u001b[0m\u001b[0;34m:\u001b[0m\u001b[0;34m\u001b[0m\u001b[0;34m\u001b[0m\u001b[0m\n\u001b[0;32m---> 11\u001b[0;31m             \u001b[0mTrue_rows\u001b[0m\u001b[0;34m.\u001b[0m\u001b[0mappend\u001b[0m\u001b[0;34m(\u001b[0m\u001b[0mi\u001b[0m\u001b[0;34m)\u001b[0m\u001b[0;34m\u001b[0m\u001b[0;34m\u001b[0m\u001b[0m\n\u001b[0m\u001b[1;32m     12\u001b[0m         \u001b[0;32melse\u001b[0m\u001b[0;34m:\u001b[0m\u001b[0;34m\u001b[0m\u001b[0;34m\u001b[0m\u001b[0m\n\u001b[1;32m     13\u001b[0m             \u001b[0mFalse_rows\u001b[0m\u001b[0;34m.\u001b[0m\u001b[0mappend\u001b[0m\u001b[0;34m(\u001b[0m\u001b[0mi\u001b[0m\u001b[0;34m)\u001b[0m\u001b[0;34m\u001b[0m\u001b[0;34m\u001b[0m\u001b[0m\n",
      "\u001b[0;31mKeyboardInterrupt\u001b[0m: "
     ]
    }
   ],
   "source": [
    "# df_temp= shuffle(df)\n",
    "# df_test = df_temp.loc[0:20,['FLength',\"Class\"]]\n",
    "# print(df_test)\n",
    "# q=question(\"FLength\",20,df)\n",
    "# True_rows,False_rows = T_F_rows(df_test,q)\n",
    "# entropy = gini(df_test)\n",
    "# information_gain(entropy,True_rows,False_rows)\n",
    "find_best_split(df)"
   ]
  }
 ],
 "metadata": {
  "kernelspec": {
   "display_name": "Python 3",
   "language": "python",
   "name": "python3"
  },
  "language_info": {
   "codemirror_mode": {
    "name": "ipython",
    "version": 3
   },
   "file_extension": ".py",
   "mimetype": "text/x-python",
   "name": "python",
   "nbconvert_exporter": "python",
   "pygments_lexer": "ipython3",
   "version": "3.7.3"
  }
 },
 "nbformat": 4,
 "nbformat_minor": 2
}
