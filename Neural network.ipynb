{
 "cells": [
  {
   "cell_type": "code",
   "execution_count": 18,
   "metadata": {},
   "outputs": [],
   "source": [
    "import numpy as np                                       \n",
    "import pandas as pd                                      \n",
    "import seaborn as sns\n",
    "import matplotlib.pyplot as plt\n",
    "from matplotlib.pyplot import figure\n",
    "from Get_and_Prepare_data import get_prepare\n",
    "from sklearn.model_selection import train_test_split"
   ]
  },
  {
   "cell_type": "code",
   "execution_count": 35,
   "metadata": {},
   "outputs": [
    {
     "name": "stdout",
     "output_type": "stream",
     "text": [
      "\n",
      "Features: \n",
      " ['fLen0t1:' 'fWidt1:' 'fSize:' 'fConc:' 'fConc1:' 'fAsym:' 'fM3Lon0:'\n",
      " 'fM3Trans:' 'fAlp1a:' 'fDist:']\n",
      "\n",
      "Target: \n",
      " class \n",
      "\n",
      "\n",
      "\n",
      "\n",
      "Removing incorrect values from class\n",
      "done\n",
      "\n",
      "\n",
      "Removing non float values from features....\n",
      "done\n",
      "\n",
      "A total of 77 rows were removed. Their positions are :\n",
      "\n",
      " [172, 190, 359, 17889, 17893, 17956, 17990, 18229, 18865, 16364, 11849, 15001, 363, 489, 854, 5654, 2907, 11681, 11688, 621, 631, 707, 1107, 1714, 2080, 2301, 2972, 3169, 4665, 5678, 5689, 6014, 6211, 6659, 6758, 6771, 6922, 6953, 7031, 7342, 7577, 8981, 9168, 9537, 10056, 10673, 10826, 10934, 11139, 11733, 11811, 11865, 12501, 13614, 13989, 14709, 16870, 17124, 17128, 17213, 18013, 18470, 466, 482, 3935, 5251, 8130, 10105, 11680, 11690, 11837, 2917, 11518, 17587, 858, 8215, 8133]\n",
      "\n",
      "\n",
      "x_train.shape, x_test.shape, y_train.shape, y_test.shape = (13259, 10) (5683, 10) (13259, 1) (5683, 1)\n",
      "\n",
      "\n",
      "x_train.shape, x_test.shape, y_train.shape, y_test.shape = (10, 13259) (10, 5683) (1, 13259) (1, 5683)\n"
     ]
    }
   ],
   "source": [
    "df,features,target,x_train, x_test, y_train, y_test = get_prepare(source='Magic_Telescope_data.csv',stand = True,norm =True,test_size = 0.3, random_state = 15,add_ones=False)\n",
    "x_train,y_train,x_test,y_test=x_train.T,y_train.T,x_test.T,y_test.T\n",
    "print('\\n\\nx_train.shape, x_test.shape, y_train.shape, y_test.shape =',x_train.shape, x_test.shape, y_train.shape, y_test.shape)"
   ]
  },
  {
   "cell_type": "code",
   "execution_count": 20,
   "metadata": {},
   "outputs": [],
   "source": [
    "def initialize_parameters(layers_dims, print_shapes = False):\n",
    "    \n",
    "    L = len(layers_dims)\n",
    "    parameters ={}\n",
    "    \n",
    "    for i in range(1,L) :\n",
    "        parameters['W'+ str(i)] = np.random.rand(layers_dims[i],layers_dims[i-1])*0.01\n",
    "        parameters['b'+ str(i)] = np.zeros((layers_dims[i],1))\n",
    "        \n",
    "    if print_shapes :\n",
    "        initialize_parameters_print_shapes(parameters)\n",
    "    return parameters        "
   ]
  },
  {
   "cell_type": "code",
   "execution_count": 21,
   "metadata": {},
   "outputs": [],
   "source": [
    "def initialize_parameters_print_shapes(parameters):\n",
    "    print('initialised:\\n')\n",
    "    print('W'+ str(i),parameters['W'+ str(i)].shape)\n",
    "    print('b'+ str(i),parameters['b'+ str(i)].shape)"
   ]
  },
  {
   "cell_type": "code",
   "execution_count": 22,
   "metadata": {},
   "outputs": [],
   "source": [
    "def softmax(x):\n",
    "    \"\"\"Compute softmax values for each sets of scores in x.\"\"\"\n",
    "    e_x = np.exp(x - np.max(x))\n",
    "    return e_x / e_x.sum()\n",
    "\n",
    "def sigmoid(Z):\n",
    "        return (1/(1+np.exp(-Z)))\n"
   ]
  },
  {
   "cell_type": "code",
   "execution_count": 23,
   "metadata": {},
   "outputs": [],
   "source": [
    "def forward_propogation(X,parameters,layers_dims,print_para = False):\n",
    "    \n",
    "    L = len(layers_dims)\n",
    "    A_prev = X\n",
    "    \n",
    "    \n",
    "    for i in range(1,L-1): # 1st hidden layer to last hidden layer\n",
    "        parameters ['Z'+ str(i)] = np.array(np.dot(parameters ['W'+ str(i)],A_prev),dtype=np.float64) + parameters ['b'+ str(i)]\n",
    "        parameters ['A'+ str(i)] = sigmoid(parameters ['Z'+ str(i)])\n",
    "        A_prev = parameters ['A'+ str(i)]\n",
    "    \n",
    "    # for the output layer we will use softmax\n",
    "    parameters ['Z'+ str(i+1)] = np.dot(parameters ['W'+ str(i+1)],A_prev) + parameters ['b'+ str(i+1)]\n",
    "    parameters ['AL'] = softmax(parameters ['Z'+ str(i+1)])\n",
    "\n",
    "    if print_para:\n",
    "        forward_propogation_print_shapes()\n",
    "            \n",
    "    return parameters ['AL'] ,parameters"
   ]
  },
  {
   "cell_type": "code",
   "execution_count": 24,
   "metadata": {},
   "outputs": [],
   "source": [
    "def forward_propogation_print_shapes():\n",
    "    print('AL',parameters['AL'])\n",
    "    for i in range(1,L):\n",
    "        print('Z'+str(i),parameters['Z'+str(i)])\n",
    "        print('W'+str(i),parameters['W'+str(i)])"
   ]
  },
  {
   "cell_type": "markdown",
   "metadata": {},
   "source": [
    "$\\large Cost = -\\frac{1}{m}\\sum_{i=1}^m(y\\times log(h(x))+(1-y)\\times log(1-h(x)))$"
   ]
  },
  {
   "cell_type": "code",
   "execution_count": 25,
   "metadata": {},
   "outputs": [],
   "source": [
    "def compute_cost(Y,AL):\n",
    "    e=1e-5\n",
    "    m = Y.shape[1]\n",
    "    cost = (-1/m)*np.sum(np.multiply(Y,np.log(AL+e),np.multiply(1-Y,np.log(1-AL+e))))\n",
    "    return(cost)"
   ]
  },
  {
   "cell_type": "code",
   "execution_count": 26,
   "metadata": {},
   "outputs": [],
   "source": [
    "def softmax_backwards(cache):\n",
    "    return softmax(cache)*(1-softmax(cache))\n",
    "\n",
    "def sigmoid_backwards(cache):\n",
    "    return sigmoid(cache)*(1-sigmoid(cache))"
   ]
  },
  {
   "cell_type": "markdown",
   "metadata": {},
   "source": [
    "\n",
    "$\\large\\delta A^{[l]} = (\\frac{-Y}{AL} - \\frac{1-Y}{1-AL})$\n",
    "\n",
    "$\\large\\delta Z^{[l]} =  \\delta A\\times\\sigma\\prime(Z) $\n",
    "\n",
    "$\\large\\delta W^{[l]} =  \\frac {1}{m}\\delta Z . A^{[l-1]T}$\n",
    "\n",
    "$\\large\\delta b^{[l]} = \\frac {1}{m}\\sum _{i=1}^{m}\\delta Z$\n",
    "\n",
    "$\\large\\delta A^{[l-1]} = W^{[l]T} . dZ^{[l]}$"
   ]
  },
  {
   "cell_type": "code",
   "execution_count": 28,
   "metadata": {},
   "outputs": [],
   "source": [
    "def backpropogation(layers_dims,parameters,AL,Y,X,print_shapes = False):\n",
    "    caches = {}\n",
    "    m = Y.shape[1]\n",
    "    L = len(layers_dims)\n",
    "    flag = True\n",
    "    parameters['A' + str(0)] = X\n",
    "    for l in reversed(range(1,L)): # last activation to first\n",
    "        \n",
    "        if (flag) :   \n",
    "            caches['dAL'] = np.divide(-Y,AL)-np.divide(1-Y,1-AL)                               \n",
    "            caches['dZ'+ str(l)] = np.multiply(caches['dAL'],softmax_backwards(parameters['Z'+ str(l)]) )   \n",
    "            caches['dW'+ str(l)] = (1/m)*np.dot(caches['dZ'+ str(l)],parameters['A' + str(l-1)].T)          \n",
    "            caches['db'+ str(l)] = (1/m)*np.sum(caches['dZ'+ str(l)],axis=1,keepdims=True)     \n",
    "            caches['dA' + str(l-1)] = np.dot(parameters['W'+ str(l)].T,caches['dZ' + str(l)])\n",
    "            flag = False\n",
    "        else:\n",
    "            caches['dZ'+ str(l)] = np.multiply(caches['dA' + str(l)],sigmoid_backwards(parameters['Z'+ str(l)]))\n",
    "            caches['dW'+ str(l)] = (1/m)*np.dot(caches['dZ'+ str(l)],parameters['A' + str(l-1)].T)\n",
    "            caches['db'+ str(l)] = (1/m)*np.sum(caches['dZ'+ str(l)],axis=1,keepdims=True)\n",
    "            if (l-1 != 0) :\n",
    "                caches['dA' + str(l-1)] = np.dot(parameters['W' + str(l)].T,caches['dZ' + str(l)]) \n",
    "                \n",
    "    if print_shapes :\n",
    "        backpropogation_print_shapes(caches)\n",
    "    \n",
    "    return caches"
   ]
  },
  {
   "cell_type": "code",
   "execution_count": 29,
   "metadata": {},
   "outputs": [],
   "source": [
    "def backpropogation_print_shapes(caches):\n",
    "    print ('dAL',caches['dAL'].shape)\n",
    "    for l in range(1,L):\n",
    "        print(\"dZ\"+ str(l),caches['dZ'+ str(l)].shape)\n",
    "        print(\"dW\"+ str(l),caches['dW'+ str(l)].shape)\n",
    "        print(\"db\"+ str(l),caches['db'+ str(l)].shape)\n",
    "        if (l-1 != 0) :\n",
    "            print('dA' + str(l-1),caches['dA' + str(l-1)].shape)"
   ]
  },
  {
   "cell_type": "markdown",
   "metadata": {},
   "source": [
    "$$ W^{[l]} = W^{[l]} - \\alpha \\text{ } dW^{[l]}$$\n",
    "$$ b^{[l]} = b^{[l]} - \\alpha \\text{ } db^{[l]}$$"
   ]
  },
  {
   "cell_type": "code",
   "execution_count": 30,
   "metadata": {},
   "outputs": [],
   "source": [
    "def update_parameters(parameters,caches,alpha,L):\n",
    "    for l in range(L-1):\n",
    "        parameters['W'+ str(l+1)] = parameters['W'+ str(l+1)] - alpha * caches['dW'+ str(l+1)]\n",
    "        parameters['b'+ str(l+1)] = parameters['b'+ str(l+1)] - alpha * caches['db'+ str(l+1)]\n",
    "    return parameters"
   ]
  },
  {
   "cell_type": "code",
   "execution_count": 32,
   "metadata": {},
   "outputs": [],
   "source": [
    "def predict(X, Y, parameters,layers_dims):\n",
    "    m = X.shape[1]\n",
    "    AL, caches = forward_propogation(X, parameters,layers_dims)\n",
    "    threshold = np.sum(AL)/len(AL)\n",
    "    for i in range(AL.shape[1]):\n",
    "        if (AL[0,i]>threshold):\n",
    "            AL[0,i]=1\n",
    "        else:\n",
    "            AL[0,i]=0\n",
    "    print(\"Accuracy: \"  + str((np.sum((AL == Y))/m)*100))\n",
    "    return AL"
   ]
  },
  {
   "cell_type": "code",
   "execution_count": 33,
   "metadata": {},
   "outputs": [],
   "source": [
    "def nn( X, Y, layers_dims, iterations,alpha, no_of_prints=15):\n",
    "    \n",
    "    parameters = initialize_parameters(layers_dims, print_shapes = False)\n",
    "    costs = []\n",
    "    \n",
    "    if(no_of_prints>0):\n",
    "        flag = True\n",
    "        val = int(itera/no_of_prints)\n",
    "    elif (no_of_prints==0):\n",
    "        flag = False\n",
    "    else:\n",
    "        flag = True\n",
    "        val = 1\n",
    "    \n",
    "    for i in range(1,iterations):\n",
    "\n",
    "        AL ,caches = forward_propogation(X,parameters,layers_dims)\n",
    "        cost = compute_cost(Y,AL)\n",
    "        caches = backpropogation(layers_dims,parameters,AL,Y,X,print_shapes = False)\n",
    "        parameters = update_parameters(parameters,caches,alpha,len(layers_dims))\n",
    "        costs.append(cost)\n",
    "        \n",
    "        if (flag and i % val == 0):\n",
    "            print('Cost after iteration %i : %f'%(i,cost))\n",
    "        \n",
    "    print('\\nFinal cost = {}'.format(cost))\n",
    "    p = predict(X, Y, parameters,layers_dims)\n",
    "    \n",
    "    return p,costs,parameters"
   ]
  },
  {
   "cell_type": "code",
   "execution_count": 34,
   "metadata": {},
   "outputs": [
    {
     "name": "stdout",
     "output_type": "stream",
     "text": [
      "Cost after iteration 400 : 3.290325\n",
      "Cost after iteration 800 : 3.290318\n",
      "Cost after iteration 1200 : 3.290300\n",
      "Cost after iteration 1600 : 3.290286\n",
      "\n",
      "Final cost = 3.29027849212042\n",
      "Accuracy: 64.87668753299646\n",
      "Accuracy: 64.61376033784973\n"
     ]
    },
    {
     "data": {
      "text/plain": [
       "<matplotlib.axes._subplots.AxesSubplot at 0x7f4ad82be828>"
      ]
     },
     "execution_count": 34,
     "metadata": {},
     "output_type": "execute_result"
    },
    {
     "data": {
      "image/png": "[encoded data removed]",
      "text/plain": [
       "<Figure size 432x288 with 1 Axes>"
      ]
     },
     "metadata": {
      "needs_background": "light"
     },
     "output_type": "display_data"
    }
   ],
   "source": [
    "itera,alpha = 2000,0.014\n",
    "layers_dims = [x_train.shape[0],5,4,2,y_train.shape[0]]\n",
    "p,costs,parameters = nn( x_train, y_train, layers_dims,itera,alpha, no_of_prints=5)\n",
    "predict(x_test,y_test,parameters,layers_dims)\n",
    "\n",
    "import seaborn as sns\n",
    "sns.lineplot(x=np.arange(1,itera) ,y =costs)"
   ]
  }
 ],
 "metadata": {
  "kernelspec": {
   "display_name": "Python 3",
   "language": "python",
   "name": "python3"
  },
  "language_info": {
   "codemirror_mode": {
    "name": "ipython",
    "version": 3
   },
   "file_extension": ".py",
   "mimetype": "text/x-python",
   "name": "python",
   "nbconvert_exporter": "python",
   "pygments_lexer": "ipython3",
   "version": "3.7.3"
  }
 },
 "nbformat": 4,
 "nbformat_minor": 2
}
